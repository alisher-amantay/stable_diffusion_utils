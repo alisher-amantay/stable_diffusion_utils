{
 "cells": [
  {
   "cell_type": "code",
   "execution_count": 75,
   "metadata": {},
   "outputs": [],
   "source": [
    "torch.cuda.empty_cache()"
   ]
  },
  {
   "cell_type": "code",
   "execution_count": 2,
   "metadata": {},
   "outputs": [],
   "source": [
    "import os\n",
    "SAVE_PATH = 'generations/'\n",
    "\n",
    "try:\n",
    "    os.mkdir(SAVE_PATH)\n",
    "except FileExistsError:\n",
    "    pass"
   ]
  },
  {
   "cell_type": "markdown",
   "metadata": {},
   "source": [
    "## Text2Image"
   ]
  },
  {
   "cell_type": "code",
   "execution_count": 1,
   "metadata": {},
   "outputs": [
    {
     "name": "stderr",
     "output_type": "stream",
     "text": [
      "/raid/alisher_amantay/.conda/envs/stab-diff/lib/python3.9/site-packages/tqdm/auto.py:22: TqdmWarning: IProgress not found. Please update jupyter and ipywidgets. See https://ipywidgets.readthedocs.io/en/stable/user_install.html\n",
      "  from .autonotebook import tqdm as notebook_tqdm\n"
     ]
    }
   ],
   "source": [
    "import torch\n",
    "from torch import autocast\n",
    "from diffusers import StableDiffusionPipeline, LMSDiscreteScheduler\n",
    "\n",
    "model_id = 'stable-diffusion-v1-4'\n",
    "lms = LMSDiscreteScheduler(\n",
    "    beta_start=0.00085,\n",
    "    beta_end=0.012,\n",
    "    beta_schedule=\"scaled_linear\"\n",
    ")\n",
    "safety_checker = lambda images, **kwargs: (images, False)\n",
    "\n",
    "device = 'cuda:0'\n",
    "pipe = StableDiffusionPipeline.from_pretrained(\n",
    "    model_id, scheduler=lms, use_auth_token=True)\n",
    "pipe.safety_checker = safety_checker\n",
    "pipe = pipe.to(device)"
   ]
  },
  {
   "cell_type": "code",
   "execution_count": 19,
   "metadata": {},
   "outputs": [
    {
     "name": "stderr",
     "output_type": "stream",
     "text": [
      "100%|██████████| 50/50 [00:04<00:00, 10.73it/s]\n"
     ]
    }
   ],
   "source": [
    "n_images = 1\n",
    "\n",
    "prompt = \"photo of football soccer player hitting the ball with immense force, hyperrealistic, full shot, action\"\n",
    "height = 512\n",
    "width = 512\n",
    "\n",
    "# run pipeline in inference (sample random noise and denoise)\n",
    "with autocast('cuda'):\n",
    "    images = pipe([prompt]*n_images, num_inference_steps=50,\n",
    "                  height=height, width=width,\n",
    "                  eta=0.3, guidance_scale=9.0)[\"sample\"]\n"
   ]
  },
  {
   "cell_type": "code",
   "execution_count": null,
   "metadata": {},
   "outputs": [],
   "source": [
    "images[0]"
   ]
  },
  {
   "cell_type": "code",
   "execution_count": 64,
   "metadata": {},
   "outputs": [],
   "source": [
    "# save a single image\n",
    "idx = 0\n",
    "images[idx].save(SAVE_PATH + f'{prompt[:200]}_{idx}.png')"
   ]
  },
  {
   "cell_type": "code",
   "execution_count": 65,
   "metadata": {},
   "outputs": [],
   "source": [
    "# save all images\n",
    "for idx, image in enumerate(images):\n",
    "    image.save(SAVE_PATH + f'{prompt}_{idx}.png')"
   ]
  },
  {
   "cell_type": "markdown",
   "metadata": {},
   "source": [
    "## Image2Image"
   ]
  },
  {
   "cell_type": "code",
   "execution_count": 40,
   "metadata": {},
   "outputs": [],
   "source": [
    "from PIL import Image\n",
    "import torch\n",
    "from torch import autocast\n",
    "from image_to_image import StableDiffusionImg2ImgPipeline, preprocess\n",
    "\n",
    "safety_checker = lambda images, **kwargs: (images, False)\n",
    "model_id = 'stable-diffusion-v1-4'\n",
    "device = 'cuda:1'\n",
    "\n",
    "i2i_pipe = StableDiffusionImg2ImgPipeline.from_pretrained(\n",
    "    model_id,\n",
    "    revision=\"fp16\",\n",
    "    torch_dtype=torch.float16,\n",
    "    use_auth_token=True\n",
    ")\n",
    "i2i_pipe.safety_checker = safety_checker\n",
    "i2i_pipe = i2i_pipe.to(device)"
   ]
  },
  {
   "cell_type": "code",
   "execution_count": 23,
   "metadata": {},
   "outputs": [],
   "source": [
    "# load img from system\n",
    "init_path = 'img_path.png'\n",
    "init_image = Image.open(init_path).convert(\"RGB\")\n",
    "init_image = init_image.resize((832, 832))\n",
    "init_image = preprocess(init_image)"
   ]
  },
  {
   "cell_type": "code",
   "execution_count": 71,
   "metadata": {},
   "outputs": [],
   "source": [
    "# load img from memory\n",
    "init_image = images[0].convert('RGB')\n",
    "init_image = init_image.resize((832, 512))\n",
    "init_image = preprocess(init_image)"
   ]
  },
  {
   "cell_type": "code",
   "execution_count": null,
   "metadata": {},
   "outputs": [],
   "source": [
    "# run generation\n",
    "n_images = 1\n",
    "prompt = \"cheering poster for a figure skating show, dark silhouette of a female figure-skater, beautiful, gradients, smooth, extreme details\"\n",
    "\n",
    "with autocast(\"cuda\"):\n",
    "    i2i_images = i2i_pipe(prompt=[prompt] * n_images, init_image=init_image, strength=0.7, guidance_scale=7.5)[\"sample\"]\n",
    "\n",
    "i2i_images[0]"
   ]
  },
  {
   "cell_type": "code",
   "execution_count": 73,
   "metadata": {},
   "outputs": [],
   "source": [
    "# load output as input\n",
    "init_image = i2i_images[0].convert('RGB')\n",
    "init_image = init_image.resize((832, 512))\n",
    "init_image = preprocess(init_image)"
   ]
  },
  {
   "cell_type": "code",
   "execution_count": null,
   "metadata": {},
   "outputs": [],
   "source": [
    "# run generation\n",
    "n_images = 1\n",
    "prompt = \"cheering poster for a figure skating show, dark silhouette of a female figure-skater with skates on, beautiful, gradients, smooth, extreme details\"\n",
    "\n",
    "with autocast(\"cuda\"):\n",
    "    i2i_images = i2i_pipe(prompt=[prompt] * n_images, init_image=init_image, strength=0.6, guidance_scale=7.5, num_inference_steps=50)[\"sample\"]\n",
    "\n",
    "i2i_images[0]"
   ]
  },
  {
   "cell_type": "code",
   "execution_count": 76,
   "metadata": {},
   "outputs": [],
   "source": [
    "# save an image\n",
    "idx = 5\n",
    "i2i_images[0].save(SAVE_PATH + f'{prompt[:200]}_{idx}.png')"
   ]
  },
  {
   "cell_type": "markdown",
   "metadata": {},
   "source": [
    "# Interpolate between prompts"
   ]
  },
  {
   "cell_type": "code",
   "execution_count": 2,
   "metadata": {},
   "outputs": [
    {
     "name": "stderr",
     "output_type": "stream",
     "text": [
      "You have passed a non-standard module NoCheck(). We cannot verify whether it has the correct type\n",
      "{'trained_betas'} was not found in config. Values will be initialized to default values.\n"
     ]
    }
   ],
   "source": [
    "from stable_diffusion_videos.stable_diffusion_pipeline import StableDiffusionPipeline as VidPipe\n",
    "from stable_diffusion_videos.stable_diffusion_pipeline import NoCheck\n",
    "from stable_diffusion_videos import walk\n",
    "\n",
    "model_id = 'stable-diffusion-v1-4'\n",
    "\n",
    "device = 'cuda:8'\n",
    "pipe = VidPipe.from_pretrained(\n",
    "    model_id, use_auth_token=True, safety_checker=NoCheck()\n",
    ").to(device)"
   ]
  },
  {
   "cell_type": "code",
   "execution_count": 22,
   "metadata": {},
   "outputs": [
    {
     "name": "stdout",
     "output_type": "stream",
     "text": [
      "COUNT: 1/200\n",
      "COUNT: 20/200\n",
      "COUNT: 40/200\n",
      "COUNT: 60/200\n",
      "COUNT: 80/200\n",
      "COUNT: 100/200\n",
      "COUNT: 120/200\n",
      "COUNT: 140/200\n",
      "COUNT: 160/200\n",
      "COUNT: 180/200\n",
      "COUNT: 200/200\n"
     ]
    },
    {
     "name": "stderr",
     "output_type": "stream",
     "text": [
      "ffmpeg version 4.2.4-1ubuntu0.1 Copyright (c) 2000-2020 the FFmpeg developers\n",
      "  built with gcc 9 (Ubuntu 9.3.0-10ubuntu2)\n",
      "  configuration: --prefix=/usr --extra-version=1ubuntu0.1 --toolchain=hardened --libdir=/usr/lib/x86_64-linux-gnu --incdir=/usr/include/x86_64-linux-gnu --arch=amd64 --enable-gpl --disable-stripping --enable-avresample --disable-filter=resample --enable-avisynth --enable-gnutls --enable-ladspa --enable-libaom --enable-libass --enable-libbluray --enable-libbs2b --enable-libcaca --enable-libcdio --enable-libcodec2 --enable-libflite --enable-libfontconfig --enable-libfreetype --enable-libfribidi --enable-libgme --enable-libgsm --enable-libjack --enable-libmp3lame --enable-libmysofa --enable-libopenjpeg --enable-libopenmpt --enable-libopus --enable-libpulse --enable-librsvg --enable-librubberband --enable-libshine --enable-libsnappy --enable-libsoxr --enable-libspeex --enable-libssh --enable-libtheora --enable-libtwolame --enable-libvidstab --enable-libvorbis --enable-libvpx --enable-libwavpack --enable-libwebp --enable-libx265 --enable-libxml2 --enable-libxvid --enable-libzmq --enable-libzvbi --enable-lv2 --enable-omx --enable-openal --enable-opencl --enable-opengl --enable-sdl2 --enable-libdc1394 --enable-libdrm --enable-libiec61883 --enable-nvenc --enable-chromaprint --enable-frei0r --enable-libx264 --enable-shared\n",
      "  libavutil      56. 31.100 / 56. 31.100\n",
      "  libavcodec     58. 54.100 / 58. 54.100\n",
      "  libavformat    58. 29.100 / 58. 29.100\n",
      "  libavdevice    58.  8.100 / 58.  8.100\n",
      "  libavfilter     7. 57.100 /  7. 57.100\n",
      "  libavresample   4.  0.  0 /  4.  0.  0\n",
      "  libswscale      5.  5.100 /  5.  5.100\n",
      "  libswresample   3.  5.100 /  3.  5.100\n",
      "  libpostproc    55.  5.100 / 55.  5.100\n",
      "Input #0, image2, from 'generations/penguin_deer2/frame%06d.jpg':\n",
      "  Duration: 00:00:08.00, start: 0.000000, bitrate: N/A\n",
      "    Stream #0:0: Video: mjpeg (Baseline), yuvj420p(pc, bt470bg/unknown/unknown), 512x512 [SAR 1:1 DAR 1:1], 25 fps, 25 tbr, 25 tbn, 25 tbc\n",
      "Stream mapping:\n",
      "  Stream #0:0 -> #0:0 (mjpeg (native) -> h264 (libx264))\n",
      "Press [q] to stop, [?] for help\n",
      "[swscaler @ 0x5575422b80c0] deprecated pixel format used, make sure you did set range correctly\n",
      "[libx264 @ 0x557541f51680] using SAR=1/1\n",
      "[libx264 @ 0x557541f51680] using cpu capabilities: MMX2 SSE2Fast SSSE3 SSE4.2 AVX FMA3 BMI2 AVX2 AVX512\n",
      "[libx264 @ 0x557541f51680] profile High, level 3.0\n",
      "[libx264 @ 0x557541f51680] 264 - core 155 r2917 0a84d98 - H.264/MPEG-4 AVC codec - Copyleft 2003-2018 - http://www.videolan.org/x264.html - options: cabac=1 ref=3 deblock=1:0:0 analyse=0x3:0x113 me=hex subme=7 psy=1 psy_rd=1.00:0.00 mixed_ref=1 me_range=16 chroma_me=1 trellis=1 8x8dct=1 cqm=0 deadzone=21,11 fast_pskip=1 chroma_qp_offset=-2 threads=16 lookahead_threads=2 sliced_threads=0 nr=0 decimate=1 interlaced=0 bluray_compat=0 constrained_intra=0 bframes=3 b_pyramid=2 b_adapt=1 b_bias=0 direct=1 weightb=1 open_gop=0 weightp=2 keyint=250 keyint_min=25 scenecut=40 intra_refresh=0 rc_lookahead=40 rc=crf mbtree=1 crf=10.0 qcomp=0.60 qpmin=0 qpmax=69 qpstep=4 ip_ratio=1.40 aq=1:1.00\n",
      "Output #0, mp4, to 'generations/penguin_deer2/penguin_deer2.mp4':\n",
      "  Metadata:\n",
      "    encoder         : Lavf58.29.100\n",
      "    Stream #0:0: Video: h264 (libx264) (avc1 / 0x31637661), yuv420p, 512x512 [SAR 1:1 DAR 1:1], q=-1--1, 30 fps, 15360 tbn, 30 tbc\n",
      "    Metadata:\n",
      "      encoder         : Lavc58.54.100 libx264\n",
      "    Side data:\n",
      "      cpb: bitrate max/min/avg: 0/0/0 buffer size: 0 vbv_delay: -1\n",
      "frame=  200 fps=183 q=-1.0 Lsize=    3977kB time=00:00:06.56 bitrate=4961.2kbits/s speed=   6x    \n",
      "video:3974kB audio:0kB subtitle:0kB other streams:0kB global headers:0kB muxing overhead: 0.080412%\n",
      "[libx264 @ 0x557541f51680] frame I:3     Avg QP:10.29  size: 56679\n",
      "[libx264 @ 0x557541f51680] frame P:56    Avg QP:11.18  size: 33099\n",
      "[libx264 @ 0x557541f51680] frame B:141   Avg QP:14.08  size: 14502\n",
      "[libx264 @ 0x557541f51680] consecutive B-frames:  3.5%  6.0%  4.5% 86.0%\n",
      "[libx264 @ 0x557541f51680] mb I  I16..4:  0.3% 96.7%  3.0%\n",
      "[libx264 @ 0x557541f51680] mb P  I16..4:  0.3% 30.8%  1.3%  P16..4: 29.5% 21.3% 16.8%  0.0%  0.0%    skip: 0.1%\n",
      "[libx264 @ 0x557541f51680] mb B  I16..4:  0.1%  3.9%  0.3%  B16..8: 23.8% 17.1% 19.8%  direct:28.6%  skip: 6.5%  L0:42.7% L1:40.9% BI:16.3%\n",
      "[libx264 @ 0x557541f51680] 8x8 transform intra:94.7% inter:95.2%\n",
      "[libx264 @ 0x557541f51680] coded y,uvDC,uvAC intra: 95.9% 64.2% 46.2% inter: 74.9% 63.8% 23.9%\n",
      "[libx264 @ 0x557541f51680] i16 v,h,dc,p:  3% 40% 17% 39%\n",
      "[libx264 @ 0x557541f51680] i8 v,h,dc,ddl,ddr,vr,hd,vl,hu: 12% 35% 30%  3%  3%  3%  5%  4%  7%\n",
      "[libx264 @ 0x557541f51680] i4 v,h,dc,ddl,ddr,vr,hd,vl,hu: 17% 24% 13%  6%  8%  8%  8%  7%  9%\n",
      "[libx264 @ 0x557541f51680] i8c dc,h,v,p: 44% 33% 15%  7%\n",
      "[libx264 @ 0x557541f51680] Weighted P-Frames: Y:46.4% UV:30.4%\n",
      "[libx264 @ 0x557541f51680] ref P L0: 46.4% 29.6% 15.3%  6.3%  2.4%\n",
      "[libx264 @ 0x557541f51680] ref B L0: 86.3% 11.3%  2.5%\n",
      "[libx264 @ 0x557541f51680] ref B L1: 94.7%  5.3%\n",
      "[libx264 @ 0x557541f51680] kb/s:4882.03\n"
     ]
    },
    {
     "data": {
      "text/plain": [
       "'generations/penguin_deer2/penguin_deer2.mp4'"
      ]
     },
     "execution_count": 22,
     "metadata": {},
     "output_type": "execute_result"
    }
   ],
   "source": [
    "walk(\n",
    "    pipeline=pipe,\n",
    "    prompts=['oil painting of a king penguin looking to the left left left in snowy tundra, side view, full shot, hyperrealistic, trending on artstation', 'oil painting of a deer looking to the left in the forest, side view, full shot, hyperrealistic, trending on artstation'],\n",
    "    seeds=[42, 42],\n",
    "    output_dir='generations',     # Where images/videos will be saved\n",
    "    name='penguin_deer2',     # Subdirectory of output_dir where images/videos will be saved\n",
    "    guidance_scale=8.5,      # Higher adheres to prompt more, lower lets model take the wheel\n",
    "    num_steps=200,             # Change to 60-200 for better results...3-5 for testing\n",
    "    num_inference_steps=50, \n",
    "    scheduler='klms',        # One of: \"klms\", \"default\", \"ddim\"\n",
    "    disable_tqdm=True,      # Set to True to disable tqdm progress bar\n",
    "    make_video=True,         # If false, just save images\n",
    "    use_lerp_for_text=True,  # Use lerp for text embeddings instead of slerp\n",
    "    do_loop=False,           # Change to True if you want last prompt to loop back to first prompt\n",
    ")"
   ]
  },
  {
   "cell_type": "code",
   "execution_count": null,
   "metadata": {},
   "outputs": [],
   "source": []
  }
 ],
 "metadata": {
  "kernelspec": {
   "display_name": "Python 3.10.8 64-bit",
   "language": "python",
   "name": "python3"
  },
  "language_info": {
   "codemirror_mode": {
    "name": "ipython",
    "version": 3
   },
   "file_extension": ".py",
   "mimetype": "text/x-python",
   "name": "python",
   "nbconvert_exporter": "python",
   "pygments_lexer": "ipython3",
   "version": "3.10.8"
  },
  "orig_nbformat": 4,
  "vscode": {
   "interpreter": {
    "hash": "aee8b7b246df8f9039afb4144a1f6fd8d2ca17a180786b69acc140d282b71a49"
   }
  }
 },
 "nbformat": 4,
 "nbformat_minor": 2
}
